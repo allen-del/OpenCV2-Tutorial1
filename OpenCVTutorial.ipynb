{
  "nbformat": 4,
  "nbformat_minor": 0,
  "metadata": {
    "colab": {
      "provenance": [],
      "authorship_tag": "ABX9TyM550YsufEfDbHwFROZZ71+"
    },
    "kernelspec": {
      "name": "python3",
      "display_name": "Python 3"
    },
    "language_info": {
      "name": "python"
    }
  },
  "cells": [
    {
      "cell_type": "markdown",
      "source": [
        "<h1>Image Processing Tutorial - Open CV</h1>"
      ],
      "metadata": {
        "id": "cIZccAA8okUy"
      }
    },
    {
      "cell_type": "code",
      "source": [],
      "metadata": {
        "id": "iFTrYf4EFgkt"
      },
      "execution_count": null,
      "outputs": []
    }
  ]
}